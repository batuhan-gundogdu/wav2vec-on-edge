{
 "cells": [
  {
   "cell_type": "code",
   "execution_count": 86,
   "id": "36318571",
   "metadata": {},
   "outputs": [
    {
     "data": {
      "application/vnd.jupyter.widget-view+json": {
       "model_id": "f0e573461ff345eca63845e5f0048c02",
       "version_major": 2,
       "version_minor": 0
      },
      "text/plain": [
       "  0%|          | 0/5000 [00:00<?, ?it/s]"
      ]
     },
     "metadata": {},
     "output_type": "display_data"
    },
    {
     "data": {
      "image/png": "[encoded data removed]",
      "text/plain": [
       "<Figure size 432x288 with 1 Axes>"
      ]
     },
     "metadata": {
      "needs_background": "light"
     },
     "output_type": "display_data"
    }
   ],
   "source": [
    "from matplotlib import pyplot\n",
    "from tqdm.notebook import tqdm\n",
    "import numpy as np\n",
    "import random\n",
    "import os\n",
    "from scipy import spatial\n",
    "\n",
    "from sklearn.model_selection import train_test_split\n",
    "from KWSDML import calculate_scores\n",
    "total = 0\n",
    "for _class in classes:\n",
    "    total += len(os.listdir(os.path.join(feat_address, _class)))\n",
    "\n",
    "all_samples = np.zeros((1024, total))\n",
    "labels = []\n",
    "ctr = 0\n",
    "\n",
    "for inx, _class in enumerate(classes):\n",
    "    for sample in os.listdir(os.path.join(feat_address, _class)):\n",
    "        path = os.path.join(feat_address, _class, sample)\n",
    "        emb = np.squeeze(np.load(path))  \n",
    "        all_samples[:, ctr] = emb\n",
    "        labels.append(inx)\n",
    "        ctr += 1\n",
    "\n",
    "feat_address = 'qualcomm-wav2vec2'\n",
    "\n",
    "classes = os.listdir(feat_address)\n",
    "K = len(classes)\n",
    "\n",
    "len_analsis=5000\n",
    "\n",
    "friends = np.empty((len_analsis), dtype=np.float32)\n",
    "foes = np.empty((len_analsis), dtype=np.float32)\n",
    "\n",
    "for i in tqdm(range(len_analsis)):\n",
    "    c1, c2 = random.sample(range(K), 2)\n",
    "    friend_class_indices = os.listdir(os.path.join(feat_address, classes[c1]))\n",
    "    foe_class_indices = os.listdir(os.path.join(feat_address, classes[c2]))\n",
    "    anchor_inx, friend_inx = random.sample(list(friend_class_indices), 2)\n",
    "    foe_inx = random.sample(list(foe_class_indices),1) [0]\n",
    "\n",
    "    anchor_path = os.path.join(feat_address, classes[c1], anchor_inx)\n",
    "    anchor = np.squeeze(np.load(anchor_path))  \n",
    "\n",
    "    friend_path = os.path.join(feat_address, classes[c1], friend_inx)\n",
    "    friend = np.squeeze(np.load(friend_path))  \n",
    "\n",
    "    foe_path = os.path.join(feat_address, classes[c2], foe_inx)\n",
    "    foe = np.squeeze(np.load(foe_path))  \n",
    "\n",
    "    friends[i] = np.inner(anchor, friend).item()\n",
    "    foes[i] = np.inner(anchor, foe).item()\n",
    "    \n",
    "acc = 0\n",
    "for state in range(10):    \n",
    "    X_train, X_test, y_train, y_test = train_test_split(all_samples.T, labels, test_size=0.9, random_state=state)\n",
    "    medoids = np.empty((1024, 4), dtype=np.float32)\n",
    "    for _class in range(len(classes)):\n",
    "        class_inx = (np.squeeze(y_train) == _class)\n",
    "        class_samples = X_train[class_inx,:]\n",
    "        medoids[:,_class] = np.mean(class_samples, axis=0)    \n",
    "    acc += calculate_scores(X_test, medoids, y_test)\n",
    "\n",
    "beg = min((min(friends), min(foes)))\n",
    "end = max((max(friends), max(foes)))\n",
    "bins = np.linspace(beg, end, 100)\n",
    "pyplot.hist(friends, bins, alpha=0.5, label='friends')\n",
    "pyplot.legend(loc='upper left')\n",
    "pyplot.hist(foes, bins, alpha=0.5, label='foes')\n",
    "pyplot.legend(loc='upper left')\n",
    "pyplot.title(f'Feat = wave2vecL16, 10-fold nearest neighbor classification acc = {acc/10:.2f}')\n",
    "pyplot.show()"
   ]
  },
  {
   "cell_type": "code",
   "execution_count": 93,
   "id": "2d1b7dd4",
   "metadata": {},
   "outputs": [],
   "source": [
    "import glob\n",
    "import librosa\n",
    "fals_samples_folder = '/home/batuhangundogdu/SE/train'\n",
    "\n",
    "false_path_list = []\n",
    "false_path_list.extend(glob.glob(os.path.join(fals_samples_folder, f\"**/*.flac\"), recursive=True))\n"
   ]
  },
  {
   "cell_type": "code",
   "execution_count": 99,
   "id": "12956258",
   "metadata": {},
   "outputs": [
    {
     "name": "stderr",
     "output_type": "stream",
     "text": [
      "/home/batuhangundogdu/anaconda3/lib/python3.8/site-packages/librosa/core/audio.py:165: UserWarning: PySoundFile failed. Trying audioread instead.\n",
      "  warnings.warn(\"PySoundFile failed. Trying audioread instead.\")\n"
     ]
    }
   ],
   "source": [
    "shift = 8000\n",
    "input_length = 24000\n",
    "sr = 16000\n",
    "audio_ctr = 0\n",
    "false_samples = []\n",
    "\n",
    "while len(false_samples)<18000:\n",
    "    waveform, sr = librosa.load(false_path_list[audio_ctr], sr=sr)\n",
    "    starting_index = 0\n",
    "    while starting_index + input_length < waveform.shape[0]:\n",
    "        false_wav = waveform[starting_index:starting_index + input_length]\n",
    "        starting_index += shift\n",
    "        false_samples.append(false_wav)\n",
    "    audio_ctr += 1"
   ]
  },
  {
   "cell_type": "code",
   "execution_count": 103,
   "id": "62d879a7",
   "metadata": {},
   "outputs": [],
   "source": [
    "from transformers import Wav2Vec2Processor, Wav2Vec2ForSequenceClassification"
   ]
  },
  {
   "cell_type": "code",
   "execution_count": 104,
   "id": "51b76ccd",
   "metadata": {},
   "outputs": [
    {
     "name": "stderr",
     "output_type": "stream",
     "text": [
      "Some weights of the model checkpoint at facebook/wav2vec2-large-960h were not used when initializing Wav2Vec2ForSequenceClassification: ['lm_head.weight', 'lm_head.bias']\n",
      "- This IS expected if you are initializing Wav2Vec2ForSequenceClassification from the checkpoint of a model trained on another task or with another architecture (e.g. initializing a BertForSequenceClassification model from a BertForPreTraining model).\n",
      "- This IS NOT expected if you are initializing Wav2Vec2ForSequenceClassification from the checkpoint of a model that you expect to be exactly identical (initializing a BertForSequenceClassification model from a BertForSequenceClassification model).\n",
      "Some weights of Wav2Vec2ForSequenceClassification were not initialized from the model checkpoint at facebook/wav2vec2-large-960h and are newly initialized: ['wav2vec2.masked_spec_embed', 'classifier.bias', 'projector.bias', 'projector.weight', 'classifier.weight']\n",
      "You should probably TRAIN this model on a down-stream task to be able to use it for predictions and inference.\n"
     ]
    }
   ],
   "source": [
    "processor = Wav2Vec2Processor.from_pretrained(\"facebook/wav2vec2-large-960h\")\n",
    "model = Wav2Vec2ForSequenceClassification.from_pretrained(\"facebook/wav2vec2-large-960h\", output_hidden_states=True)\n",
    "layer = 16"
   ]
  },
  {
   "cell_type": "code",
   "execution_count": 107,
   "id": "901132c3",
   "metadata": {},
   "outputs": [
    {
     "data": {
      "text/plain": [
       "2313"
      ]
     },
     "execution_count": 107,
     "metadata": {},
     "output_type": "execute_result"
    }
   ],
   "source": [
    "len(w2v_false)"
   ]
  },
  {
   "cell_type": "code",
   "execution_count": 112,
   "id": "9df116c8",
   "metadata": {},
   "outputs": [
    {
     "data": {
      "application/vnd.jupyter.widget-view+json": {
       "model_id": "933723dcd2684264b801b246d10cc1a0",
       "version_major": 2,
       "version_minor": 0
      },
      "text/plain": [
       "  0%|          | 0/5000 [00:00<?, ?it/s]"
      ]
     },
     "metadata": {},
     "output_type": "display_data"
    },
    {
     "data": {
      "image/png": "[encoded data removed]",
      "text/plain": [
       "<Figure size 432x288 with 1 Axes>"
      ]
     },
     "metadata": {
      "needs_background": "light"
     },
     "output_type": "display_data"
    }
   ],
   "source": [
    "len_analsis=5000\n",
    "\n",
    "friends = np.empty((len_analsis), dtype=np.float32)\n",
    "foes = np.empty((len_analsis), dtype=np.float32)\n",
    "c1 = 2\n",
    "for i in tqdm(range(len_analsis)):\n",
    "    friend_class_indices = os.listdir(os.path.join(feat_address, classes[c1]))\n",
    "    anchor_inx, friend_inx = random.sample(list(friend_class_indices), 2)\n",
    "\n",
    "    anchor_path = os.path.join(feat_address, classes[c1], anchor_inx)\n",
    "    anchor = np.squeeze(np.load(anchor_path))  \n",
    "\n",
    "    friend_path = os.path.join(feat_address, classes[c1], friend_inx)\n",
    "    friend = np.squeeze(np.load(friend_path))  \n",
    "\n",
    "    foe = random.sample(w2v_false, 1)[0]\n",
    "    friends[i] = np.inner(anchor, friend).item()\n",
    "    foes[i] = np.inner(anchor, foe).item()\n",
    "    \n",
    "\n",
    "beg = min((min(friends), min(foes)))\n",
    "end = max((max(friends), max(foes)))\n",
    "bins = np.linspace(beg, end, 100)\n",
    "pyplot.hist(friends, bins, alpha=0.5, label='friends')\n",
    "pyplot.legend(loc='upper left')\n",
    "pyplot.hist(foes, bins, alpha=0.5, label='foes')\n",
    "pyplot.legend(loc='upper left')\n",
    "pyplot.title(f'class {classes[c1]} vs others')\n",
    "pyplot.show()"
   ]
  },
  {
   "cell_type": "code",
   "execution_count": null,
   "id": "b0cd3a91",
   "metadata": {},
   "outputs": [],
   "source": []
  }
 ],
 "metadata": {
  "kernelspec": {
   "display_name": "Python 3",
   "language": "python",
   "name": "python3"
  },
  "language_info": {
   "codemirror_mode": {
    "name": "ipython",
    "version": 3
   },
   "file_extension": ".py",
   "mimetype": "text/x-python",
   "name": "python",
   "nbconvert_exporter": "python",
   "pygments_lexer": "ipython3",
   "version": "3.8.8"
  }
 },
 "nbformat": 4,
 "nbformat_minor": 5
}
